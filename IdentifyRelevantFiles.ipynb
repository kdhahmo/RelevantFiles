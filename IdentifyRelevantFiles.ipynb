{
 "cells": [
  {
   "cell_type": "code",
   "execution_count": 30,
   "metadata": {},
   "outputs": [],
   "source": [
    "import pandas as pd\n",
    "import os"
   ]
  },
  {
   "cell_type": "markdown",
   "metadata": {},
   "source": [
    "---"
   ]
  },
  {
   "cell_type": "markdown",
   "metadata": {},
   "source": [
    "# test variables"
   ]
  },
  {
   "cell_type": "code",
   "execution_count": 81,
   "metadata": {},
   "outputs": [],
   "source": [
    "my_cwd = os.getcwd()\n",
    "reference_directory = os.path.join(my_cwd,\"DemoDataIdentifyRelevantFiles\")\n",
    "new_coordinates = os.path.join(reference_directory,\"TestingCoordinates\")\n",
    "data_directory = os.path.join(my_cwd,\"DemoDataFolder\")\n",
    "coordinate_boundaries_filepath = os.path.join(reference_directory,\"summary.csv\")\n",
    "output_path = os.path.join(reference_directory,\"DemoOutput.csv\")"
   ]
  },
  {
   "cell_type": "markdown",
   "metadata": {},
   "source": [
    "# function"
   ]
  },
  {
   "cell_type": "code",
   "execution_count": null,
   "metadata": {},
   "outputs": [],
   "source": [
    "def RelevantData(new_coordinates,data_directory,coordinate_boundaries_filepath,output_path):\n",
    "    '''\n",
    "    Given lists of coordinates, go through the file with coordinate bounds, and identify files where the bounds intersect the bounds of the list.\n",
    "\n",
    "    Args:\n",
    "        new_coordinates (string): path to the file containing the coordinates\n",
    "        data_directory (string): the filepath for the directory containing the data\n",
    "        coordinate_boundaries_filepath (string): the filepath for the csv containing coordinate boundaries of all the data we have collected\n",
    "        output_path (string): the full filepath to save the output csv\n",
    "\n",
    "\n",
    "    Returns:\n",
    "    Saves a csv of the output dataframe that containns the file paths of all files that account for the given coordinates in their boundaries.\n",
    "    '''\n",
    "    # load in the data\n",
    "    established_boundaries = pd.read_csv(coordinate_boundaries_filepath)\n",
    "\n",
    "    # loading in new coordinates\n",
    "    new_coordinates_df = pd.read_csv(new_coordinates)\n",
    "    # converting the x and y info into coordinate bounds\n",
    "    new_boundaries = pd.DataFrame({\n",
    "    'x_min': [new_coordinates_df['Coord_X '].min()]\n",
    "    ,'x_max': [new_coordinates_df['Coord_X '].max()]\n",
    "    ,'y_min': [new_coordinates_df['Coord_Y'].min()]\n",
    "    ,'y_max': [new_coordinates_df['Coord_Y'].max()]\n",
    "})\n",
    "    \n",
    "    # extracting scalar values\n",
    "    x_min, x_max = new_boundaries['x_min'].iloc[0], new_boundaries['x_max'].iloc[0]\n",
    "    y_min, y_max = new_boundaries['y_min'].iloc[0], new_boundaries['y_max'].iloc[0]\n",
    "\n",
    "    # returning only established data values that intersect with this new data\n",
    "    intersecting_bounds = established_boundaries[~(        (established_boundaries['x_min']> x_max)\n",
    "                                           | (established_boundaries['x_max']< x_min)\n",
    "                                           | (established_boundaries['y_min']> y_max)\n",
    "                                           | (established_boundaries['y_max']< y_min)\n",
    "                                           )]\n",
    "    \n",
    "    \n",
    "    # creating a list to store filepaths and their bounds\n",
    "    file_info = []\n",
    "\n",
    "    # storing filepath and bounds information\n",
    "    for root, _, files in os.walk(data_directory):\n",
    "        for file in files:\n",
    "            if file.endswith('.csv'):\n",
    "                # loading in the file as a dataframe\n",
    "                full_root_path = os.path.abspath(root)\n",
    "                file_path = os.path.join(full_root_path, file)\n",
    "                file_metadata = pd.read_csv(file_path)\n",
    "\n",
    "                # creating coordinate bounds\n",
    "                X_min, X_max = file_metadata['Coord_X'].min(), file_metadata['Coord_X'].max()\n",
    "                Y_min, Y_max = file_metadata['Coord_Y'].min(), file_metadata['Coord_Y'].max()\n",
    "\n",
    "                # storing data\n",
    "                file_info.append({\n",
    "                    'file_name': file,\n",
    "                    'file_path': file_path,\n",
    "                    'x_min': X_min,\n",
    "                    'x_max': X_max,\n",
    "                    'y_min': Y_min,\n",
    "                    'y_max': Y_max\n",
    "                })\n",
    "\n",
    "    metadata = pd.DataFrame(file_info)\n",
    "\n",
    "    # comparing all files with data we want\n",
    "    relevant_files = metadata.merge(intersecting_bounds, on=[\"file_name\", \"x_min\",\"x_max\",\"y_min\",\"y_max\"], how=\"inner\")\n",
    "    relevant_files.to_csv(output_path, index=False)\n",
    "\n",
    "    return(relevant_files)"
   ]
  },
  {
   "cell_type": "code",
   "execution_count": 80,
   "metadata": {},
   "outputs": [
    {
     "data": {
      "text/html": [
       "<div>\n",
       "<style scoped>\n",
       "    .dataframe tbody tr th:only-of-type {\n",
       "        vertical-align: middle;\n",
       "    }\n",
       "\n",
       "    .dataframe tbody tr th {\n",
       "        vertical-align: top;\n",
       "    }\n",
       "\n",
       "    .dataframe thead th {\n",
       "        text-align: right;\n",
       "    }\n",
       "</style>\n",
       "<table border=\"1\" class=\"dataframe\">\n",
       "  <thead>\n",
       "    <tr style=\"text-align: right;\">\n",
       "      <th></th>\n",
       "      <th>file_name</th>\n",
       "      <th>file_path</th>\n",
       "      <th>x_min</th>\n",
       "      <th>x_max</th>\n",
       "      <th>y_min</th>\n",
       "      <th>y_max</th>\n",
       "    </tr>\n",
       "  </thead>\n",
       "  <tbody>\n",
       "    <tr>\n",
       "      <th>0</th>\n",
       "      <td>coordinates_9.csv</td>\n",
       "      <td>c:\\Users\\dhahm\\OneDrive\\Desktop\\MomOneDrive\\On...</td>\n",
       "      <td>-93.168003</td>\n",
       "      <td>89.583659</td>\n",
       "      <td>-91.495306</td>\n",
       "      <td>98.545727</td>\n",
       "    </tr>\n",
       "    <tr>\n",
       "      <th>1</th>\n",
       "      <td>coordinates_6.csv</td>\n",
       "      <td>c:\\Users\\dhahm\\OneDrive\\Desktop\\MomOneDrive\\On...</td>\n",
       "      <td>-96.695920</td>\n",
       "      <td>98.795379</td>\n",
       "      <td>-98.423933</td>\n",
       "      <td>95.857750</td>\n",
       "    </tr>\n",
       "  </tbody>\n",
       "</table>\n",
       "</div>"
      ],
      "text/plain": [
       "           file_name                                          file_path      x_min      x_max  \\\n",
       "0  coordinates_9.csv  c:\\Users\\dhahm\\OneDrive\\Desktop\\MomOneDrive\\On... -93.168003  89.583659   \n",
       "1  coordinates_6.csv  c:\\Users\\dhahm\\OneDrive\\Desktop\\MomOneDrive\\On... -96.695920  98.795379   \n",
       "\n",
       "       y_min      y_max  \n",
       "0 -91.495306  98.545727  \n",
       "1 -98.423933  95.857750  "
      ]
     },
     "execution_count": 80,
     "metadata": {},
     "output_type": "execute_result"
    }
   ],
   "source": [
    "RelevantData(new_coordinates,data_directory,coordinate_boundaries_filepath,output_path)"
   ]
  }
 ],
 "metadata": {
  "kernelspec": {
   "display_name": "test_env",
   "language": "python",
   "name": "python3"
  },
  "language_info": {
   "codemirror_mode": {
    "name": "ipython",
    "version": 3
   },
   "file_extension": ".py",
   "mimetype": "text/x-python",
   "name": "python",
   "nbconvert_exporter": "python",
   "pygments_lexer": "ipython3",
   "version": "3.9.20"
  }
 },
 "nbformat": 4,
 "nbformat_minor": 2
}
